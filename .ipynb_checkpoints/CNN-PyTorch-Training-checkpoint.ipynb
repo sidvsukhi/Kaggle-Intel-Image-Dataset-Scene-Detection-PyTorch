{
 "cells": [
  {
   "cell_type": "code",
   "execution_count": 3,
   "metadata": {},
   "outputs": [],
   "source": [
    "# Importing libraries\n",
    "import os\n",
    "import numpy as np\n",
    "import glob\n",
    "import torch\n",
    "import torch.nn as nn\n",
    "from torchvision.transforms import transforms\n",
    "from torch.utils.data import DataLoader\n",
    "from torch.optim import Adam\n",
    "from torch.autograd import Variable\n",
    "import torchvision\n",
    "import pathlib"
   ]
  },
  {
   "cell_type": "code",
   "execution_count": 5,
   "metadata": {},
   "outputs": [
    {
     "name": "stdout",
     "output_type": "stream",
     "text": [
      "cpu\n"
     ]
    }
   ],
   "source": [
    "# Checking for the device- i.e if torch is using CUDA or not.\n",
    "# If it is not using CUDA, it will train on CPU.\n",
    "# Else it will train on GPU.\n",
    "\n",
    "# 'cuda' and 'cpu' have to be as given since they are library terms\n",
    "\n",
    "device = torch.device('cuda' if torch.cuda.is_available() else 'cpu')\n",
    "print(device)"
   ]
  },
  {
   "cell_type": "code",
   "execution_count": 9,
   "metadata": {},
   "outputs": [],
   "source": [
    "# Data Processing- Using transforms\n",
    "\n",
    "transformer = transforms.Compose([\n",
    "    # Resizing every image to (150, 150) for training\n",
    "    transforms.Resize((150, 150)),\n",
    "    \n",
    "    # Random horizontally flipping images with 0.5 probability\n",
    "    transforms.RandomHorizontalFlip(),\n",
    "    \n",
    "    # Changes [0-255] value to [0-1], also changes data type from numpy to tensor\n",
    "    transforms.ToTensor(),\n",
    "    \n",
    "    # Changes range from [0-1] to [-1, 1]\n",
    "    # Column represents RGB channel, and row represents mean and std\n",
    "    # x will be replaces by the Z-score = (x-mean)/std\n",
    "    transforms.Normalize([0.5, 0.5, 0.5],\n",
    "                        [0.5, 0.5, 0.5])\n",
    "])"
   ]
  },
  {
   "cell_type": "code",
   "execution_count": 12,
   "metadata": {},
   "outputs": [],
   "source": [
    "# Data Loader\n",
    "\n",
    "# Paths\n",
    "train_path = '/home/siddhant/Pictures/Intel-image-dataset/archive/seg_train'\n",
    "test_path = '/home/siddhant/Pictures/Intel-image-dataset/archive/seg_test'\n",
    "\n",
    "\n",
    "train_loader = DataLoader(\n",
    "    torchvision.datasets.ImageFolder(train_path, transform = transformer),\n",
    "    # Hyper parameters\n",
    "    batch_size = 256,\n",
    "    # Shuffle to get rid of bias\n",
    "    shuffle = True\n",
    ")\n",
    "\n",
    "test_loader = DataLoader(\n",
    "    torchvision.datasets.ImageFolder(test_path, transform = transformer),\n",
    "    # Hyper parameters\n",
    "    batch_size = 256,\n",
    "    # Shuffle to get rid of bias\n",
    "    shuffle = True\n",
    ")"
   ]
  },
  {
   "cell_type": "code",
   "execution_count": 13,
   "metadata": {},
   "outputs": [
    {
     "name": "stdout",
     "output_type": "stream",
     "text": [
      "['buildings', 'forest', 'glacier', 'mountain', 'sea', 'street']\n"
     ]
    }
   ],
   "source": [
    "# Getting categories\n",
    "\n",
    "root = pathlib.Path(train_path)\n",
    "classes = sorted([j.name.split('/')[-1] for j in root.iterdir()])\n",
    "print(classes)"
   ]
  },
  {
   "cell_type": "code",
   "execution_count": 15,
   "metadata": {},
   "outputs": [],
   "source": [
    "# CNN Network- In PyTorch we need to define class for a CNN- it will inherit the nn.Module class\n",
    "\n",
    "class ConvNet(nn.Module):\n",
    "    def __init__(self, num_classes = 6):\n",
    "        super(ConvNet, self).__init__()\n",
    "        \n",
    "        # Input shape (256, 3, 150, 150) - (batch size, number of channels, height, width)\n",
    "        self.conv1 = nn.Conv2d(in_channels = 3, out_channels = 12, kernel_size = 3, stride = 1, padding = 1)\n",
    "        # ((w-f+2p)/s)+1\n",
    "        # New shape = (256, 12, 150, 150)\n",
    "        self.bn1 = nn.BatchNorm2d(num_features = 12)\n",
    "        # New shape = (256, 12, 150, 150)\n",
    "        self.relu1 = nn.ReLU()\n",
    "        # New shape = (256, 12, 150, 150)\n",
    "        \n",
    "        self.pool = nn.MaxPool2d(kernel_size = 2)\n",
    "        # New shape = (256, 12, 75, 75)\n",
    "        \n",
    "        self.conv2 = nn.Conv2d(in_channels = 12, out_channels = 20, kernel_size = 3, stride = 1, padding = 1)\n",
    "        # New shape = (256, 20, 75, 75)\n",
    "        self.relu2 = nn.ReLU()\n",
    "        \n",
    "        self.conv3 = nn.Conv2d(in_channels = 20, out_channels = 32, kernel_size = 3, stride = 1, padding = 1)\n",
    "        # New shape = (256, 32, 75, 75)\n",
    "        self.bn3 = nn.BatchNorm2d(num_features = 32)\n",
    "        # New shape = (256, 32, 75, 75)\n",
    "        self.relu3 = nn.ReLU()\n",
    "        # New shape = (256, 32, 75, 75)\n",
    "        \n",
    "        self.fc = nn.Linear(in_features = 32*75*75, out_features = num_classes)\n",
    "    \n",
    "    # Feed forward function\n",
    "    \n",
    "    def forward(self, input):\n",
    "        output = self.conv1(input)\n",
    "        output = self.bn1(output)\n",
    "        output = self.relu1(output)\n",
    "        \n",
    "        output = self.pool(output)\n",
    "        \n",
    "        output = self.conv2(output)\n",
    "        output = self.relu2(output)\n",
    "        \n",
    "        output = self.conv3(output)\n",
    "        output = self.bn3(output)\n",
    "        output = self.relu3(output)\n",
    "        \n",
    "        # Output will be [256, 32, 75, 75]\n",
    "        \n",
    "        output = output.view(-1, 32*75*75)\n",
    "        \n",
    "        output = self.fc(output)\n",
    "        return output"
   ]
  },
  {
   "cell_type": "code",
   "execution_count": 16,
   "metadata": {},
   "outputs": [],
   "source": [
    "# Getting model and sending it to the device\n",
    "model = ConvNet(num_classes = 6).to(device)"
   ]
  },
  {
   "cell_type": "code",
   "execution_count": null,
   "metadata": {},
   "outputs": [],
   "source": []
  }
 ],
 "metadata": {
  "kernelspec": {
   "display_name": "Python 3",
   "language": "python",
   "name": "python3"
  },
  "language_info": {
   "codemirror_mode": {
    "name": "ipython",
    "version": 3
   },
   "file_extension": ".py",
   "mimetype": "text/x-python",
   "name": "python",
   "nbconvert_exporter": "python",
   "pygments_lexer": "ipython3",
   "version": "3.7.6"
  }
 },
 "nbformat": 4,
 "nbformat_minor": 4
}
